{
  "nbformat": 4,
  "nbformat_minor": 0,
  "metadata": {
    "colab": {
      "provenance": [],
      "authorship_tag": "ABX9TyOa7cS1BhdLJz5M16RPNrfC",
      "include_colab_link": true
    },
    "kernelspec": {
      "name": "python3",
      "display_name": "Python 3"
    },
    "language_info": {
      "name": "python"
    }
  },
  "cells": [
    {
      "cell_type": "markdown",
      "metadata": {
        "id": "view-in-github",
        "colab_type": "text"
      },
      "source": [
        "<a href=\"https://colab.research.google.com/github/AmoghVaishnav/ACPC-Bot/blob/main/Untitled15.ipynb\" target=\"_parent\"><img src=\"https://colab.research.google.com/assets/colab-badge.svg\" alt=\"Open In Colab\"/></a>"
      ]
    },
    {
      "cell_type": "code",
      "execution_count": 1,
      "metadata": {
        "id": "SsYd-VdZG7LQ",
        "colab": {
          "base_uri": "https://localhost:8080/"
        },
        "outputId": "e4cda599-c8ea-4d28-fb93-41811dc7c7e2"
      },
      "outputs": [
        {
          "output_type": "stream",
          "name": "stdout",
          "text": [
            "1 10\n",
            "[*********************100%***********************]  1 of 1 completed"
          ]
        },
        {
          "output_type": "stream",
          "name": "stderr",
          "text": [
            "ERROR:yfinance:\n",
            "1 Failed download:\n",
            "ERROR:yfinance:['BABA']: Exception(\"%ticker%: Data doesn't exist for startDate = 1262322000, endDate = 1264914000\")\n"
          ]
        },
        {
          "output_type": "stream",
          "name": "stdout",
          "text": [
            "\n",
            "2 10\n",
            "[*********************100%***********************]  1 of 1 completed"
          ]
        },
        {
          "output_type": "stream",
          "name": "stderr",
          "text": [
            "ERROR:yfinance:\n",
            "1 Failed download:\n",
            "ERROR:yfinance:['BABA']: ValueError('day is out of range for month')\n"
          ]
        },
        {
          "output_type": "stream",
          "name": "stdout",
          "text": [
            "\n",
            "3 10\n",
            "[*********************100%***********************]  1 of 1 completed"
          ]
        },
        {
          "output_type": "stream",
          "name": "stderr",
          "text": [
            "ERROR:yfinance:\n",
            "1 Failed download:\n",
            "ERROR:yfinance:['BABA']: Exception(\"%ticker%: Data doesn't exist for startDate = 1267419600, endDate = 1270008000\")\n"
          ]
        },
        {
          "output_type": "stream",
          "name": "stdout",
          "text": [
            "\n",
            "4 10\n",
            "[*********************100%***********************]  1 of 1 completed"
          ]
        },
        {
          "output_type": "stream",
          "name": "stderr",
          "text": [
            "ERROR:yfinance:\n",
            "1 Failed download:\n",
            "ERROR:yfinance:['BABA']: ValueError('day is out of range for month')\n"
          ]
        },
        {
          "output_type": "stream",
          "name": "stdout",
          "text": [
            "\n",
            "5 10\n",
            "[*********************100%***********************]  1 of 1 completed"
          ]
        },
        {
          "output_type": "stream",
          "name": "stderr",
          "text": [
            "ERROR:yfinance:\n",
            "1 Failed download:\n",
            "ERROR:yfinance:['BABA']: Exception(\"%ticker%: Data doesn't exist for startDate = 1272686400, endDate = 1275278400\")\n"
          ]
        },
        {
          "output_type": "stream",
          "name": "stdout",
          "text": [
            "\n",
            "6 10\n",
            "[*********************100%***********************]  1 of 1 completed"
          ]
        },
        {
          "output_type": "stream",
          "name": "stderr",
          "text": [
            "ERROR:yfinance:\n",
            "1 Failed download:\n",
            "ERROR:yfinance:['BABA']: ValueError('day is out of range for month')\n"
          ]
        },
        {
          "output_type": "stream",
          "name": "stdout",
          "text": [
            "\n",
            "7 10\n",
            "[*********************100%***********************]  1 of 1 completed"
          ]
        },
        {
          "output_type": "stream",
          "name": "stderr",
          "text": [
            "ERROR:yfinance:\n",
            "1 Failed download:\n",
            "ERROR:yfinance:['BABA']: Exception(\"%ticker%: Data doesn't exist for startDate = 1277956800, endDate = 1280548800\")\n"
          ]
        },
        {
          "output_type": "stream",
          "name": "stdout",
          "text": [
            "\n",
            "8 10\n",
            "[*********************100%***********************]  1 of 1 completed"
          ]
        },
        {
          "output_type": "stream",
          "name": "stderr",
          "text": [
            "ERROR:yfinance:\n",
            "1 Failed download:\n",
            "ERROR:yfinance:['BABA']: Exception(\"%ticker%: Data doesn't exist for startDate = 1280635200, endDate = 1283227200\")\n"
          ]
        },
        {
          "output_type": "stream",
          "name": "stdout",
          "text": [
            "\n",
            "9 10\n",
            "[*********************100%***********************]  1 of 1 completed"
          ]
        },
        {
          "output_type": "stream",
          "name": "stderr",
          "text": [
            "ERROR:yfinance:\n",
            "1 Failed download:\n",
            "ERROR:yfinance:['BABA']: ValueError('day is out of range for month')\n"
          ]
        },
        {
          "output_type": "stream",
          "name": "stdout",
          "text": [
            "\n",
            "10 10\n",
            "[*********************100%***********************]  1 of 1 completed"
          ]
        },
        {
          "output_type": "stream",
          "name": "stderr",
          "text": [
            "ERROR:yfinance:\n",
            "1 Failed download:\n",
            "ERROR:yfinance:['BABA']: Exception(\"%ticker%: Data doesn't exist for startDate = 1285905600, endDate = 1288497600\")\n"
          ]
        },
        {
          "output_type": "stream",
          "name": "stdout",
          "text": [
            "\n",
            "11 10\n",
            "[*********************100%***********************]  1 of 1 completed"
          ]
        },
        {
          "output_type": "stream",
          "name": "stderr",
          "text": [
            "ERROR:yfinance:\n",
            "1 Failed download:\n",
            "ERROR:yfinance:['BABA']: ValueError('day is out of range for month')\n"
          ]
        },
        {
          "output_type": "stream",
          "name": "stdout",
          "text": [
            "\n",
            "12 10\n",
            "[*********************100%***********************]  1 of 1 completed"
          ]
        },
        {
          "output_type": "stream",
          "name": "stderr",
          "text": [
            "ERROR:yfinance:\n",
            "1 Failed download:\n",
            "ERROR:yfinance:['BABA']: Exception(\"%ticker%: Data doesn't exist for startDate = 1291179600, endDate = 1293771600\")\n"
          ]
        },
        {
          "output_type": "stream",
          "name": "stdout",
          "text": [
            "\n",
            "1 11\n",
            "[*********************100%***********************]  1 of 1 completed"
          ]
        },
        {
          "output_type": "stream",
          "name": "stderr",
          "text": [
            "ERROR:yfinance:\n",
            "1 Failed download:\n",
            "ERROR:yfinance:['BABA']: Exception(\"%ticker%: Data doesn't exist for startDate = 1293858000, endDate = 1296450000\")\n"
          ]
        },
        {
          "output_type": "stream",
          "name": "stdout",
          "text": [
            "\n",
            "2 11\n",
            "[*********************100%***********************]  1 of 1 completed"
          ]
        },
        {
          "output_type": "stream",
          "name": "stderr",
          "text": [
            "ERROR:yfinance:\n",
            "1 Failed download:\n",
            "ERROR:yfinance:['BABA']: ValueError('day is out of range for month')\n"
          ]
        },
        {
          "output_type": "stream",
          "name": "stdout",
          "text": [
            "\n",
            "3 11\n",
            "[*********************100%***********************]  1 of 1 completed"
          ]
        },
        {
          "output_type": "stream",
          "name": "stderr",
          "text": [
            "ERROR:yfinance:\n",
            "1 Failed download:\n",
            "ERROR:yfinance:['BABA']: Exception(\"%ticker%: Data doesn't exist for startDate = 1298955600, endDate = 1301544000\")\n"
          ]
        },
        {
          "output_type": "stream",
          "name": "stdout",
          "text": [
            "\n",
            "4 11\n",
            "[*********************100%***********************]  1 of 1 completed"
          ]
        },
        {
          "output_type": "stream",
          "name": "stderr",
          "text": [
            "ERROR:yfinance:\n",
            "1 Failed download:\n",
            "ERROR:yfinance:['BABA']: ValueError('day is out of range for month')\n"
          ]
        },
        {
          "output_type": "stream",
          "name": "stdout",
          "text": [
            "\n",
            "5 11\n",
            "[*********************100%***********************]  1 of 1 completed"
          ]
        },
        {
          "output_type": "stream",
          "name": "stderr",
          "text": [
            "ERROR:yfinance:\n",
            "1 Failed download:\n",
            "ERROR:yfinance:['BABA']: Exception(\"%ticker%: Data doesn't exist for startDate = 1304222400, endDate = 1306814400\")\n"
          ]
        },
        {
          "output_type": "stream",
          "name": "stdout",
          "text": [
            "\n",
            "6 11\n",
            "[*********************100%***********************]  1 of 1 completed"
          ]
        },
        {
          "output_type": "stream",
          "name": "stderr",
          "text": [
            "ERROR:yfinance:\n",
            "1 Failed download:\n",
            "ERROR:yfinance:['BABA']: ValueError('day is out of range for month')\n"
          ]
        },
        {
          "output_type": "stream",
          "name": "stdout",
          "text": [
            "\n",
            "7 11\n",
            "[*********************100%***********************]  1 of 1 completed"
          ]
        },
        {
          "output_type": "stream",
          "name": "stderr",
          "text": [
            "ERROR:yfinance:\n",
            "1 Failed download:\n",
            "ERROR:yfinance:['BABA']: Data doesn't exist for startDate = 1309492800, endDate = 1312084800\n"
          ]
        },
        {
          "output_type": "stream",
          "name": "stdout",
          "text": [
            "\n",
            "8 11\n",
            "[*********************100%***********************]  1 of 1 completed"
          ]
        },
        {
          "output_type": "stream",
          "name": "stderr",
          "text": [
            "ERROR:yfinance:\n",
            "1 Failed download:\n",
            "ERROR:yfinance:['BABA']: Exception(\"%ticker%: Data doesn't exist for startDate = 1312171200, endDate = 1314763200\")\n"
          ]
        },
        {
          "output_type": "stream",
          "name": "stdout",
          "text": [
            "\n",
            "9 11\n",
            "[*********************100%***********************]  1 of 1 completed"
          ]
        },
        {
          "output_type": "stream",
          "name": "stderr",
          "text": [
            "ERROR:yfinance:\n",
            "1 Failed download:\n",
            "ERROR:yfinance:['BABA']: ValueError('day is out of range for month')\n"
          ]
        },
        {
          "output_type": "stream",
          "name": "stdout",
          "text": [
            "\n",
            "10 11\n",
            "[*********************100%***********************]  1 of 1 completed"
          ]
        },
        {
          "output_type": "stream",
          "name": "stderr",
          "text": [
            "ERROR:yfinance:\n",
            "1 Failed download:\n",
            "ERROR:yfinance:['BABA']: Exception(\"%ticker%: Data doesn't exist for startDate = 1317441600, endDate = 1320033600\")\n"
          ]
        },
        {
          "output_type": "stream",
          "name": "stdout",
          "text": [
            "\n",
            "11 11\n",
            "[*********************100%***********************]  1 of 1 completed"
          ]
        },
        {
          "output_type": "stream",
          "name": "stderr",
          "text": [
            "ERROR:yfinance:\n",
            "1 Failed download:\n",
            "ERROR:yfinance:['BABA']: ValueError('day is out of range for month')\n"
          ]
        },
        {
          "output_type": "stream",
          "name": "stdout",
          "text": [
            "\n",
            "12 11\n",
            "[*********************100%***********************]  1 of 1 completed"
          ]
        },
        {
          "output_type": "stream",
          "name": "stderr",
          "text": [
            "ERROR:yfinance:\n",
            "1 Failed download:\n",
            "ERROR:yfinance:['BABA']: Exception(\"%ticker%: Data doesn't exist for startDate = 1322715600, endDate = 1325307600\")\n"
          ]
        },
        {
          "output_type": "stream",
          "name": "stdout",
          "text": [
            "\n",
            "1 12\n",
            "[*********************100%***********************]  1 of 1 completed"
          ]
        },
        {
          "output_type": "stream",
          "name": "stderr",
          "text": [
            "ERROR:yfinance:\n",
            "1 Failed download:\n",
            "ERROR:yfinance:['BABA']: Exception(\"%ticker%: Data doesn't exist for startDate = 1325394000, endDate = 1327986000\")\n"
          ]
        },
        {
          "output_type": "stream",
          "name": "stdout",
          "text": [
            "\n",
            "2 12\n",
            "[*********************100%***********************]  1 of 1 completed"
          ]
        },
        {
          "output_type": "stream",
          "name": "stderr",
          "text": [
            "ERROR:yfinance:\n",
            "1 Failed download:\n",
            "ERROR:yfinance:['BABA']: ValueError('day is out of range for month')\n"
          ]
        },
        {
          "output_type": "stream",
          "name": "stdout",
          "text": [
            "\n",
            "3 12\n",
            "[*********************100%***********************]  1 of 1 completed"
          ]
        },
        {
          "output_type": "stream",
          "name": "stderr",
          "text": [
            "ERROR:yfinance:\n",
            "1 Failed download:\n",
            "ERROR:yfinance:['BABA']: Exception(\"%ticker%: Data doesn't exist for startDate = 1330578000, endDate = 1333166400\")\n"
          ]
        },
        {
          "output_type": "stream",
          "name": "stdout",
          "text": [
            "\n",
            "4 12\n",
            "[*********************100%***********************]  1 of 1 completed"
          ]
        },
        {
          "output_type": "stream",
          "name": "stderr",
          "text": [
            "ERROR:yfinance:\n",
            "1 Failed download:\n",
            "ERROR:yfinance:['BABA']: ValueError('day is out of range for month')\n"
          ]
        },
        {
          "output_type": "stream",
          "name": "stdout",
          "text": [
            "\n",
            "5 12\n",
            "[*********************100%***********************]  1 of 1 completed"
          ]
        },
        {
          "output_type": "stream",
          "name": "stderr",
          "text": [
            "ERROR:yfinance:\n",
            "1 Failed download:\n",
            "ERROR:yfinance:['BABA']: Exception(\"%ticker%: Data doesn't exist for startDate = 1335844800, endDate = 1338436800\")\n"
          ]
        },
        {
          "output_type": "stream",
          "name": "stdout",
          "text": [
            "\n",
            "6 12\n",
            "[*********************100%***********************]  1 of 1 completed"
          ]
        },
        {
          "output_type": "stream",
          "name": "stderr",
          "text": [
            "ERROR:yfinance:\n",
            "1 Failed download:\n",
            "ERROR:yfinance:['BABA']: ValueError('day is out of range for month')\n"
          ]
        },
        {
          "output_type": "stream",
          "name": "stdout",
          "text": [
            "\n",
            "7 12\n",
            "[*********************100%***********************]  1 of 1 completed"
          ]
        },
        {
          "output_type": "stream",
          "name": "stderr",
          "text": [
            "ERROR:yfinance:\n",
            "1 Failed download:\n",
            "ERROR:yfinance:['BABA']: Exception(\"%ticker%: Data doesn't exist for startDate = 1341115200, endDate = 1343707200\")\n"
          ]
        },
        {
          "output_type": "stream",
          "name": "stdout",
          "text": [
            "\n",
            "8 12\n",
            "[*********************100%***********************]  1 of 1 completed"
          ]
        },
        {
          "output_type": "stream",
          "name": "stderr",
          "text": [
            "ERROR:yfinance:\n",
            "1 Failed download:\n",
            "ERROR:yfinance:['BABA']: Exception(\"%ticker%: Data doesn't exist for startDate = 1343793600, endDate = 1346385600\")\n"
          ]
        },
        {
          "output_type": "stream",
          "name": "stdout",
          "text": [
            "\n",
            "9 12\n",
            "[*********************100%***********************]  1 of 1 completed"
          ]
        },
        {
          "output_type": "stream",
          "name": "stderr",
          "text": [
            "ERROR:yfinance:\n",
            "1 Failed download:\n",
            "ERROR:yfinance:['BABA']: ValueError('day is out of range for month')\n"
          ]
        },
        {
          "output_type": "stream",
          "name": "stdout",
          "text": [
            "\n",
            "10 12\n",
            "[*********************100%***********************]  1 of 1 completed"
          ]
        },
        {
          "output_type": "stream",
          "name": "stderr",
          "text": [
            "ERROR:yfinance:\n",
            "1 Failed download:\n",
            "ERROR:yfinance:['BABA']: Exception(\"%ticker%: Data doesn't exist for startDate = 1349064000, endDate = 1351656000\")\n"
          ]
        },
        {
          "output_type": "stream",
          "name": "stdout",
          "text": [
            "\n",
            "11 12\n",
            "[*********************100%***********************]  1 of 1 completed"
          ]
        },
        {
          "output_type": "stream",
          "name": "stderr",
          "text": [
            "ERROR:yfinance:\n",
            "1 Failed download:\n",
            "ERROR:yfinance:['BABA']: ValueError('day is out of range for month')\n"
          ]
        },
        {
          "output_type": "stream",
          "name": "stdout",
          "text": [
            "\n",
            "12 12\n",
            "[*********************100%***********************]  1 of 1 completed"
          ]
        },
        {
          "output_type": "stream",
          "name": "stderr",
          "text": [
            "ERROR:yfinance:\n",
            "1 Failed download:\n",
            "ERROR:yfinance:['BABA']: Exception(\"%ticker%: Data doesn't exist for startDate = 1354338000, endDate = 1356930000\")\n"
          ]
        },
        {
          "output_type": "stream",
          "name": "stdout",
          "text": [
            "\n",
            "1 13\n",
            "[*********************100%***********************]  1 of 1 completed"
          ]
        },
        {
          "output_type": "stream",
          "name": "stderr",
          "text": [
            "ERROR:yfinance:\n",
            "1 Failed download:\n",
            "ERROR:yfinance:['BABA']: Exception(\"%ticker%: Data doesn't exist for startDate = 1357016400, endDate = 1359608400\")\n"
          ]
        },
        {
          "output_type": "stream",
          "name": "stdout",
          "text": [
            "\n",
            "2 13\n",
            "[*********************100%***********************]  1 of 1 completed"
          ]
        },
        {
          "output_type": "stream",
          "name": "stderr",
          "text": [
            "ERROR:yfinance:\n",
            "1 Failed download:\n",
            "ERROR:yfinance:['BABA']: ValueError('day is out of range for month')\n"
          ]
        },
        {
          "output_type": "stream",
          "name": "stdout",
          "text": [
            "\n",
            "3 13\n",
            "[*********************100%***********************]  1 of 1 completed"
          ]
        },
        {
          "output_type": "stream",
          "name": "stderr",
          "text": [
            "ERROR:yfinance:\n",
            "1 Failed download:\n",
            "ERROR:yfinance:['BABA']: Exception(\"%ticker%: Data doesn't exist for startDate = 1362114000, endDate = 1364702400\")\n"
          ]
        },
        {
          "output_type": "stream",
          "name": "stdout",
          "text": [
            "\n",
            "4 13\n",
            "[*********************100%***********************]  1 of 1 completed"
          ]
        },
        {
          "output_type": "stream",
          "name": "stderr",
          "text": [
            "ERROR:yfinance:\n",
            "1 Failed download:\n",
            "ERROR:yfinance:['BABA']: ValueError('day is out of range for month')\n"
          ]
        },
        {
          "output_type": "stream",
          "name": "stdout",
          "text": [
            "\n",
            "5 13\n",
            "[*********************100%***********************]  1 of 1 completed"
          ]
        },
        {
          "output_type": "stream",
          "name": "stderr",
          "text": [
            "ERROR:yfinance:\n",
            "1 Failed download:\n",
            "ERROR:yfinance:['BABA']: Exception(\"%ticker%: Data doesn't exist for startDate = 1367380800, endDate = 1369972800\")\n"
          ]
        },
        {
          "output_type": "stream",
          "name": "stdout",
          "text": [
            "\n",
            "6 13\n",
            "[*********************100%***********************]  1 of 1 completed"
          ]
        },
        {
          "output_type": "stream",
          "name": "stderr",
          "text": [
            "ERROR:yfinance:\n",
            "1 Failed download:\n",
            "ERROR:yfinance:['BABA']: ValueError('day is out of range for month')\n"
          ]
        },
        {
          "output_type": "stream",
          "name": "stdout",
          "text": [
            "\n",
            "7 13\n",
            "[*********************100%***********************]  1 of 1 completed"
          ]
        },
        {
          "output_type": "stream",
          "name": "stderr",
          "text": [
            "ERROR:yfinance:\n",
            "1 Failed download:\n",
            "ERROR:yfinance:['BABA']: Exception(\"%ticker%: Data doesn't exist for startDate = 1372651200, endDate = 1375243200\")\n"
          ]
        },
        {
          "output_type": "stream",
          "name": "stdout",
          "text": [
            "\n",
            "8 13\n",
            "[*********************100%***********************]  1 of 1 completed"
          ]
        },
        {
          "output_type": "stream",
          "name": "stderr",
          "text": [
            "ERROR:yfinance:\n",
            "1 Failed download:\n",
            "ERROR:yfinance:['BABA']: Exception(\"%ticker%: Data doesn't exist for startDate = 1375329600, endDate = 1377921600\")\n"
          ]
        },
        {
          "output_type": "stream",
          "name": "stdout",
          "text": [
            "\n",
            "9 13\n",
            "[*********************100%***********************]  1 of 1 completed"
          ]
        },
        {
          "output_type": "stream",
          "name": "stderr",
          "text": [
            "ERROR:yfinance:\n",
            "1 Failed download:\n",
            "ERROR:yfinance:['BABA']: ValueError('day is out of range for month')\n"
          ]
        },
        {
          "output_type": "stream",
          "name": "stdout",
          "text": [
            "\n",
            "10 13\n",
            "[*********************100%***********************]  1 of 1 completed"
          ]
        },
        {
          "output_type": "stream",
          "name": "stderr",
          "text": [
            "ERROR:yfinance:\n",
            "1 Failed download:\n",
            "ERROR:yfinance:['BABA']: Exception(\"%ticker%: Data doesn't exist for startDate = 1380600000, endDate = 1383192000\")\n"
          ]
        },
        {
          "output_type": "stream",
          "name": "stdout",
          "text": [
            "\n",
            "11 13\n",
            "[*********************100%***********************]  1 of 1 completed"
          ]
        },
        {
          "output_type": "stream",
          "name": "stderr",
          "text": [
            "ERROR:yfinance:\n",
            "1 Failed download:\n",
            "ERROR:yfinance:['BABA']: ValueError('day is out of range for month')\n"
          ]
        },
        {
          "output_type": "stream",
          "name": "stdout",
          "text": [
            "\n",
            "12 13\n",
            "[*********************100%***********************]  1 of 1 completed"
          ]
        },
        {
          "output_type": "stream",
          "name": "stderr",
          "text": [
            "ERROR:yfinance:\n",
            "1 Failed download:\n",
            "ERROR:yfinance:['BABA']: Exception(\"%ticker%: Data doesn't exist for startDate = 1385874000, endDate = 1388466000\")\n"
          ]
        },
        {
          "output_type": "stream",
          "name": "stdout",
          "text": [
            "\n",
            "1 14\n",
            "[*********************100%***********************]  1 of 1 completed"
          ]
        },
        {
          "output_type": "stream",
          "name": "stderr",
          "text": [
            "ERROR:yfinance:\n",
            "1 Failed download:\n",
            "ERROR:yfinance:['BABA']: Exception(\"%ticker%: Data doesn't exist for startDate = 1388552400, endDate = 1391144400\")\n"
          ]
        },
        {
          "output_type": "stream",
          "name": "stdout",
          "text": [
            "\n",
            "2 14\n",
            "[*********************100%***********************]  1 of 1 completed"
          ]
        },
        {
          "output_type": "stream",
          "name": "stderr",
          "text": [
            "ERROR:yfinance:\n",
            "1 Failed download:\n",
            "ERROR:yfinance:['BABA']: ValueError('day is out of range for month')\n"
          ]
        },
        {
          "output_type": "stream",
          "name": "stdout",
          "text": [
            "\n",
            "3 14\n",
            "[*********************100%***********************]  1 of 1 completed"
          ]
        },
        {
          "output_type": "stream",
          "name": "stderr",
          "text": [
            "ERROR:yfinance:\n",
            "1 Failed download:\n",
            "ERROR:yfinance:['BABA']: Exception(\"%ticker%: Data doesn't exist for startDate = 1393650000, endDate = 1396238400\")\n"
          ]
        },
        {
          "output_type": "stream",
          "name": "stdout",
          "text": [
            "\n",
            "4 14\n",
            "[*********************100%***********************]  1 of 1 completed"
          ]
        },
        {
          "output_type": "stream",
          "name": "stderr",
          "text": [
            "ERROR:yfinance:\n",
            "1 Failed download:\n",
            "ERROR:yfinance:['BABA']: ValueError('day is out of range for month')\n"
          ]
        },
        {
          "output_type": "stream",
          "name": "stdout",
          "text": [
            "\n",
            "5 14\n",
            "[*********************100%***********************]  1 of 1 completed"
          ]
        },
        {
          "output_type": "stream",
          "name": "stderr",
          "text": [
            "ERROR:yfinance:\n",
            "1 Failed download:\n",
            "ERROR:yfinance:['BABA']: Exception(\"%ticker%: Data doesn't exist for startDate = 1398916800, endDate = 1401508800\")\n"
          ]
        },
        {
          "output_type": "stream",
          "name": "stdout",
          "text": [
            "\n",
            "6 14\n",
            "[*********************100%***********************]  1 of 1 completed"
          ]
        },
        {
          "output_type": "stream",
          "name": "stderr",
          "text": [
            "ERROR:yfinance:\n",
            "1 Failed download:\n",
            "ERROR:yfinance:['BABA']: ValueError('day is out of range for month')\n"
          ]
        },
        {
          "output_type": "stream",
          "name": "stdout",
          "text": [
            "\n",
            "7 14\n",
            "[*********************100%***********************]  1 of 1 completed"
          ]
        },
        {
          "output_type": "stream",
          "name": "stderr",
          "text": [
            "ERROR:yfinance:\n",
            "1 Failed download:\n",
            "ERROR:yfinance:['BABA']: Exception(\"%ticker%: Data doesn't exist for startDate = 1404187200, endDate = 1406779200\")\n"
          ]
        },
        {
          "output_type": "stream",
          "name": "stdout",
          "text": [
            "\n",
            "8 14\n",
            "[*********************100%***********************]  1 of 1 completed"
          ]
        },
        {
          "output_type": "stream",
          "name": "stderr",
          "text": [
            "ERROR:yfinance:\n",
            "1 Failed download:\n",
            "ERROR:yfinance:['BABA']: Exception(\"%ticker%: Data doesn't exist for startDate = 1406865600, endDate = 1409457600\")\n"
          ]
        },
        {
          "output_type": "stream",
          "name": "stdout",
          "text": [
            "\n",
            "9 14\n",
            "[*********************100%***********************]  1 of 1 completed"
          ]
        },
        {
          "output_type": "stream",
          "name": "stderr",
          "text": [
            "ERROR:yfinance:\n",
            "1 Failed download:\n",
            "ERROR:yfinance:['BABA']: ValueError('day is out of range for month')\n"
          ]
        },
        {
          "output_type": "stream",
          "name": "stdout",
          "text": [
            "\n",
            "10 14\n",
            "[*********************100%***********************]  1 of 1 completed\n",
            "11 14\n",
            "[*********************100%***********************]  1 of 1 completed"
          ]
        },
        {
          "output_type": "stream",
          "name": "stderr",
          "text": [
            "ERROR:yfinance:\n",
            "1 Failed download:\n",
            "ERROR:yfinance:['BABA']: ValueError('day is out of range for month')\n"
          ]
        },
        {
          "output_type": "stream",
          "name": "stdout",
          "text": [
            "\n",
            "12 14\n",
            "[*********************100%***********************]  1 of 1 completed\n",
            "1 15\n",
            "[*********************100%***********************]  1 of 1 completed\n",
            "2 15\n",
            "[*********************100%***********************]  1 of 1 completed"
          ]
        },
        {
          "output_type": "stream",
          "name": "stderr",
          "text": [
            "ERROR:yfinance:\n",
            "1 Failed download:\n",
            "ERROR:yfinance:['BABA']: ValueError('day is out of range for month')\n"
          ]
        },
        {
          "output_type": "stream",
          "name": "stdout",
          "text": [
            "\n",
            "3 15\n",
            "[*********************100%***********************]  1 of 1 completed\n",
            "4 15\n",
            "[*********************100%***********************]  1 of 1 completed"
          ]
        },
        {
          "output_type": "stream",
          "name": "stderr",
          "text": [
            "ERROR:yfinance:\n",
            "1 Failed download:\n",
            "ERROR:yfinance:['BABA']: ValueError('day is out of range for month')\n"
          ]
        },
        {
          "output_type": "stream",
          "name": "stdout",
          "text": [
            "\n",
            "5 15\n",
            "[*********************100%***********************]  1 of 1 completed\n",
            "6 15\n",
            "[*********************100%***********************]  1 of 1 completed"
          ]
        },
        {
          "output_type": "stream",
          "name": "stderr",
          "text": [
            "ERROR:yfinance:\n",
            "1 Failed download:\n",
            "ERROR:yfinance:['BABA']: ValueError('day is out of range for month')\n"
          ]
        },
        {
          "output_type": "stream",
          "name": "stdout",
          "text": [
            "\n",
            "7 15\n",
            "[*********************100%***********************]  1 of 1 completed\n",
            "8 15\n",
            "[*********************100%***********************]  1 of 1 completed\n",
            "9 15\n",
            "[*********************100%***********************]  1 of 1 completed"
          ]
        },
        {
          "output_type": "stream",
          "name": "stderr",
          "text": [
            "ERROR:yfinance:\n",
            "1 Failed download:\n",
            "ERROR:yfinance:['BABA']: ValueError('day is out of range for month')\n"
          ]
        },
        {
          "output_type": "stream",
          "name": "stdout",
          "text": [
            "\n",
            "10 15\n",
            "[*********************100%***********************]  1 of 1 completed\n",
            "11 15\n",
            "[*********************100%***********************]  1 of 1 completed"
          ]
        },
        {
          "output_type": "stream",
          "name": "stderr",
          "text": [
            "ERROR:yfinance:\n",
            "1 Failed download:\n",
            "ERROR:yfinance:['BABA']: ValueError('day is out of range for month')\n"
          ]
        },
        {
          "output_type": "stream",
          "name": "stdout",
          "text": [
            "\n",
            "12 15\n",
            "[*********************100%***********************]  1 of 1 completed\n",
            "1 16\n",
            "[*********************100%***********************]  1 of 1 completed\n",
            "2 16\n",
            "[*********************100%***********************]  1 of 1 completed"
          ]
        },
        {
          "output_type": "stream",
          "name": "stderr",
          "text": [
            "ERROR:yfinance:\n",
            "1 Failed download:\n",
            "ERROR:yfinance:['BABA']: ValueError('day is out of range for month')\n"
          ]
        },
        {
          "output_type": "stream",
          "name": "stdout",
          "text": [
            "\n",
            "3 16\n",
            "[*********************100%***********************]  1 of 1 completed\n",
            "4 16\n",
            "[*********************100%***********************]  1 of 1 completed"
          ]
        },
        {
          "output_type": "stream",
          "name": "stderr",
          "text": [
            "ERROR:yfinance:\n",
            "1 Failed download:\n",
            "ERROR:yfinance:['BABA']: ValueError('day is out of range for month')\n"
          ]
        },
        {
          "output_type": "stream",
          "name": "stdout",
          "text": [
            "\n",
            "5 16\n",
            "[*********************100%***********************]  1 of 1 completed\n",
            "6 16\n",
            "[*********************100%***********************]  1 of 1 completed"
          ]
        },
        {
          "output_type": "stream",
          "name": "stderr",
          "text": [
            "ERROR:yfinance:\n",
            "1 Failed download:\n",
            "ERROR:yfinance:['BABA']: ValueError('day is out of range for month')\n"
          ]
        },
        {
          "output_type": "stream",
          "name": "stdout",
          "text": [
            "\n",
            "7 16\n",
            "[*********************100%***********************]  1 of 1 completed\n",
            "8 16\n",
            "[*********************100%***********************]  1 of 1 completed\n",
            "9 16\n",
            "[*********************100%***********************]  1 of 1 completed"
          ]
        },
        {
          "output_type": "stream",
          "name": "stderr",
          "text": [
            "ERROR:yfinance:\n",
            "1 Failed download:\n",
            "ERROR:yfinance:['BABA']: ValueError('day is out of range for month')\n"
          ]
        },
        {
          "output_type": "stream",
          "name": "stdout",
          "text": [
            "\n",
            "10 16\n",
            "[*********************100%***********************]  1 of 1 completed\n",
            "11 16\n",
            "[*********************100%***********************]  1 of 1 completed"
          ]
        },
        {
          "output_type": "stream",
          "name": "stderr",
          "text": [
            "ERROR:yfinance:\n",
            "1 Failed download:\n",
            "ERROR:yfinance:['BABA']: ValueError('day is out of range for month')\n"
          ]
        },
        {
          "output_type": "stream",
          "name": "stdout",
          "text": [
            "\n",
            "12 16\n",
            "[*********************100%***********************]  1 of 1 completed\n",
            "1 17\n",
            "[*********************100%***********************]  1 of 1 completed\n",
            "2 17\n",
            "[*********************100%***********************]  1 of 1 completed"
          ]
        },
        {
          "output_type": "stream",
          "name": "stderr",
          "text": [
            "ERROR:yfinance:\n",
            "1 Failed download:\n",
            "ERROR:yfinance:['BABA']: ValueError('day is out of range for month')\n"
          ]
        },
        {
          "output_type": "stream",
          "name": "stdout",
          "text": [
            "\n",
            "3 17\n",
            "[*********************100%***********************]  1 of 1 completed\n",
            "4 17\n",
            "[*********************100%***********************]  1 of 1 completed"
          ]
        },
        {
          "output_type": "stream",
          "name": "stderr",
          "text": [
            "ERROR:yfinance:\n",
            "1 Failed download:\n",
            "ERROR:yfinance:['BABA']: ValueError('day is out of range for month')\n"
          ]
        },
        {
          "output_type": "stream",
          "name": "stdout",
          "text": [
            "\n",
            "5 17\n",
            "[*********************100%***********************]  1 of 1 completed\n",
            "6 17\n",
            "[*********************100%***********************]  1 of 1 completed"
          ]
        },
        {
          "output_type": "stream",
          "name": "stderr",
          "text": [
            "ERROR:yfinance:\n",
            "1 Failed download:\n",
            "ERROR:yfinance:['BABA']: ValueError('day is out of range for month')\n"
          ]
        },
        {
          "output_type": "stream",
          "name": "stdout",
          "text": [
            "\n",
            "7 17\n",
            "[*********************100%***********************]  1 of 1 completed\n",
            "8 17\n",
            "[*********************100%***********************]  1 of 1 completed\n",
            "9 17\n",
            "[*********************100%***********************]  1 of 1 completed"
          ]
        },
        {
          "output_type": "stream",
          "name": "stderr",
          "text": [
            "ERROR:yfinance:\n",
            "1 Failed download:\n",
            "ERROR:yfinance:['BABA']: ValueError('day is out of range for month')\n"
          ]
        },
        {
          "output_type": "stream",
          "name": "stdout",
          "text": [
            "\n",
            "10 17\n",
            "[*********************100%***********************]  1 of 1 completed\n",
            "11 17\n",
            "[*********************100%***********************]  1 of 1 completed"
          ]
        },
        {
          "output_type": "stream",
          "name": "stderr",
          "text": [
            "ERROR:yfinance:\n",
            "1 Failed download:\n",
            "ERROR:yfinance:['BABA']: ValueError('day is out of range for month')\n"
          ]
        },
        {
          "output_type": "stream",
          "name": "stdout",
          "text": [
            "\n",
            "12 17\n",
            "[*********************100%***********************]  1 of 1 completed\n",
            "1 18\n",
            "[*********************100%***********************]  1 of 1 completed\n",
            "2 18\n",
            "[*********************100%***********************]  1 of 1 completed"
          ]
        },
        {
          "output_type": "stream",
          "name": "stderr",
          "text": [
            "ERROR:yfinance:\n",
            "1 Failed download:\n",
            "ERROR:yfinance:['BABA']: ValueError('day is out of range for month')\n"
          ]
        },
        {
          "output_type": "stream",
          "name": "stdout",
          "text": [
            "\n",
            "3 18\n",
            "[*********************100%***********************]  1 of 1 completed\n",
            "4 18\n",
            "[*********************100%***********************]  1 of 1 completed"
          ]
        },
        {
          "output_type": "stream",
          "name": "stderr",
          "text": [
            "ERROR:yfinance:\n",
            "1 Failed download:\n",
            "ERROR:yfinance:['BABA']: ValueError('day is out of range for month')\n"
          ]
        },
        {
          "output_type": "stream",
          "name": "stdout",
          "text": [
            "\n",
            "5 18\n",
            "[*********************100%***********************]  1 of 1 completed\n",
            "6 18\n",
            "[*********************100%***********************]  1 of 1 completed"
          ]
        },
        {
          "output_type": "stream",
          "name": "stderr",
          "text": [
            "ERROR:yfinance:\n",
            "1 Failed download:\n",
            "ERROR:yfinance:['BABA']: ValueError('day is out of range for month')\n"
          ]
        },
        {
          "output_type": "stream",
          "name": "stdout",
          "text": [
            "\n",
            "7 18\n",
            "[*********************100%***********************]  1 of 1 completed\n",
            "8 18\n",
            "[*********************100%***********************]  1 of 1 completed\n",
            "9 18\n",
            "[*********************100%***********************]  1 of 1 completed"
          ]
        },
        {
          "output_type": "stream",
          "name": "stderr",
          "text": [
            "ERROR:yfinance:\n",
            "1 Failed download:\n",
            "ERROR:yfinance:['BABA']: ValueError('day is out of range for month')\n"
          ]
        },
        {
          "output_type": "stream",
          "name": "stdout",
          "text": [
            "\n",
            "10 18\n",
            "[*********************100%***********************]  1 of 1 completed\n",
            "11 18\n",
            "[*********************100%***********************]  1 of 1 completed"
          ]
        },
        {
          "output_type": "stream",
          "name": "stderr",
          "text": [
            "ERROR:yfinance:\n",
            "1 Failed download:\n",
            "ERROR:yfinance:['BABA']: ValueError('day is out of range for month')\n"
          ]
        },
        {
          "output_type": "stream",
          "name": "stdout",
          "text": [
            "\n",
            "12 18\n",
            "[*********************100%***********************]  1 of 1 completed\n",
            "1 19\n",
            "[*********************100%***********************]  1 of 1 completed\n",
            "2 19\n",
            "[*********************100%***********************]  1 of 1 completed"
          ]
        },
        {
          "output_type": "stream",
          "name": "stderr",
          "text": [
            "ERROR:yfinance:\n",
            "1 Failed download:\n",
            "ERROR:yfinance:['BABA']: ValueError('day is out of range for month')\n"
          ]
        },
        {
          "output_type": "stream",
          "name": "stdout",
          "text": [
            "\n",
            "3 19\n",
            "[*********************100%***********************]  1 of 1 completed\n",
            "4 19\n",
            "[*********************100%***********************]  1 of 1 completed"
          ]
        },
        {
          "output_type": "stream",
          "name": "stderr",
          "text": [
            "ERROR:yfinance:\n",
            "1 Failed download:\n",
            "ERROR:yfinance:['BABA']: ValueError('day is out of range for month')\n"
          ]
        },
        {
          "output_type": "stream",
          "name": "stdout",
          "text": [
            "\n",
            "5 19\n",
            "[*********************100%***********************]  1 of 1 completed\n",
            "6 19\n",
            "[*********************100%***********************]  1 of 1 completed"
          ]
        },
        {
          "output_type": "stream",
          "name": "stderr",
          "text": [
            "ERROR:yfinance:\n",
            "1 Failed download:\n",
            "ERROR:yfinance:['BABA']: ValueError('day is out of range for month')\n"
          ]
        },
        {
          "output_type": "stream",
          "name": "stdout",
          "text": [
            "\n",
            "7 19\n",
            "[*********************100%***********************]  1 of 1 completed\n",
            "8 19\n",
            "[*********************100%***********************]  1 of 1 completed\n",
            "9 19\n",
            "[*********************100%***********************]  1 of 1 completed"
          ]
        },
        {
          "output_type": "stream",
          "name": "stderr",
          "text": [
            "ERROR:yfinance:\n",
            "1 Failed download:\n",
            "ERROR:yfinance:['BABA']: ValueError('day is out of range for month')\n"
          ]
        },
        {
          "output_type": "stream",
          "name": "stdout",
          "text": [
            "\n",
            "10 19\n",
            "[*********************100%***********************]  1 of 1 completed\n",
            "11 19\n",
            "[*********************100%***********************]  1 of 1 completed"
          ]
        },
        {
          "output_type": "stream",
          "name": "stderr",
          "text": [
            "ERROR:yfinance:\n",
            "1 Failed download:\n",
            "ERROR:yfinance:['BABA']: ValueError('day is out of range for month')\n"
          ]
        },
        {
          "output_type": "stream",
          "name": "stdout",
          "text": [
            "\n",
            "12 19\n",
            "[*********************100%***********************]  1 of 1 completed\n",
            "1 20\n",
            "[*********************100%***********************]  1 of 1 completed\n",
            "2 20\n",
            "[*********************100%***********************]  1 of 1 completed"
          ]
        },
        {
          "output_type": "stream",
          "name": "stderr",
          "text": [
            "ERROR:yfinance:\n",
            "1 Failed download:\n",
            "ERROR:yfinance:['BABA']: ValueError('day is out of range for month')\n"
          ]
        },
        {
          "output_type": "stream",
          "name": "stdout",
          "text": [
            "\n",
            "3 20\n",
            "[*********************100%***********************]  1 of 1 completed\n",
            "4 20\n",
            "[*********************100%***********************]  1 of 1 completed"
          ]
        },
        {
          "output_type": "stream",
          "name": "stderr",
          "text": [
            "ERROR:yfinance:\n",
            "1 Failed download:\n",
            "ERROR:yfinance:['BABA']: ValueError('day is out of range for month')\n"
          ]
        },
        {
          "output_type": "stream",
          "name": "stdout",
          "text": [
            "\n",
            "5 20\n",
            "[*********************100%***********************]  1 of 1 completed\n",
            "6 20\n",
            "[*********************100%***********************]  1 of 1 completed"
          ]
        },
        {
          "output_type": "stream",
          "name": "stderr",
          "text": [
            "ERROR:yfinance:\n",
            "1 Failed download:\n",
            "ERROR:yfinance:['BABA']: ValueError('day is out of range for month')\n"
          ]
        },
        {
          "output_type": "stream",
          "name": "stdout",
          "text": [
            "\n",
            "7 20\n",
            "[*********************100%***********************]  1 of 1 completed\n",
            "8 20\n",
            "[*********************100%***********************]  1 of 1 completed\n",
            "9 20\n",
            "[*********************100%***********************]  1 of 1 completed"
          ]
        },
        {
          "output_type": "stream",
          "name": "stderr",
          "text": [
            "ERROR:yfinance:\n",
            "1 Failed download:\n",
            "ERROR:yfinance:['BABA']: ValueError('day is out of range for month')\n"
          ]
        },
        {
          "output_type": "stream",
          "name": "stdout",
          "text": [
            "\n",
            "10 20\n",
            "[*********************100%***********************]  1 of 1 completed\n",
            "11 20\n",
            "[*********************100%***********************]  1 of 1 completed"
          ]
        },
        {
          "output_type": "stream",
          "name": "stderr",
          "text": [
            "ERROR:yfinance:\n",
            "1 Failed download:\n",
            "ERROR:yfinance:['BABA']: ValueError('day is out of range for month')\n"
          ]
        },
        {
          "output_type": "stream",
          "name": "stdout",
          "text": [
            "\n",
            "12 20\n",
            "[*********************100%***********************]  1 of 1 completed\n",
            "1 21\n",
            "[*********************100%***********************]  1 of 1 completed\n",
            "2 21\n",
            "[*********************100%***********************]  1 of 1 completed"
          ]
        },
        {
          "output_type": "stream",
          "name": "stderr",
          "text": [
            "ERROR:yfinance:\n",
            "1 Failed download:\n",
            "ERROR:yfinance:['BABA']: ValueError('day is out of range for month')\n"
          ]
        },
        {
          "output_type": "stream",
          "name": "stdout",
          "text": [
            "\n",
            "3 21\n",
            "[*********************100%***********************]  1 of 1 completed\n",
            "4 21\n",
            "[*********************100%***********************]  1 of 1 completed"
          ]
        },
        {
          "output_type": "stream",
          "name": "stderr",
          "text": [
            "ERROR:yfinance:\n",
            "1 Failed download:\n",
            "ERROR:yfinance:['BABA']: ValueError('day is out of range for month')\n"
          ]
        },
        {
          "output_type": "stream",
          "name": "stdout",
          "text": [
            "\n",
            "5 21\n",
            "[*********************100%***********************]  1 of 1 completed\n",
            "6 21\n",
            "[*********************100%***********************]  1 of 1 completed"
          ]
        },
        {
          "output_type": "stream",
          "name": "stderr",
          "text": [
            "ERROR:yfinance:\n",
            "1 Failed download:\n",
            "ERROR:yfinance:['BABA']: ValueError('day is out of range for month')\n"
          ]
        },
        {
          "output_type": "stream",
          "name": "stdout",
          "text": [
            "\n",
            "7 21\n",
            "[*********************100%***********************]  1 of 1 completed\n",
            "8 21\n",
            "[*********************100%***********************]  1 of 1 completed\n",
            "9 21\n",
            "[*********************100%***********************]  1 of 1 completed"
          ]
        },
        {
          "output_type": "stream",
          "name": "stderr",
          "text": [
            "ERROR:yfinance:\n",
            "1 Failed download:\n",
            "ERROR:yfinance:['BABA']: ValueError('day is out of range for month')\n"
          ]
        },
        {
          "output_type": "stream",
          "name": "stdout",
          "text": [
            "\n",
            "10 21\n",
            "[*********************100%***********************]  1 of 1 completed\n",
            "11 21\n",
            "[*********************100%***********************]  1 of 1 completed"
          ]
        },
        {
          "output_type": "stream",
          "name": "stderr",
          "text": [
            "ERROR:yfinance:\n",
            "1 Failed download:\n",
            "ERROR:yfinance:['BABA']: ValueError('day is out of range for month')\n"
          ]
        },
        {
          "output_type": "stream",
          "name": "stdout",
          "text": [
            "\n",
            "12 21\n",
            "[*********************100%***********************]  1 of 1 completed\n",
            "1 22\n",
            "[*********************100%***********************]  1 of 1 completed\n",
            "2 22\n",
            "[*********************100%***********************]  1 of 1 completed"
          ]
        },
        {
          "output_type": "stream",
          "name": "stderr",
          "text": [
            "ERROR:yfinance:\n",
            "1 Failed download:\n",
            "ERROR:yfinance:['BABA']: ValueError('day is out of range for month')\n"
          ]
        },
        {
          "output_type": "stream",
          "name": "stdout",
          "text": [
            "\n",
            "3 22\n",
            "[*********************100%***********************]  1 of 1 completed\n",
            "4 22\n",
            "[*********************100%***********************]  1 of 1 completed"
          ]
        },
        {
          "output_type": "stream",
          "name": "stderr",
          "text": [
            "ERROR:yfinance:\n",
            "1 Failed download:\n",
            "ERROR:yfinance:['BABA']: ValueError('day is out of range for month')\n"
          ]
        },
        {
          "output_type": "stream",
          "name": "stdout",
          "text": [
            "\n",
            "5 22\n",
            "[*********************100%***********************]  1 of 1 completed\n",
            "6 22\n",
            "[*********************100%***********************]  1 of 1 completed"
          ]
        },
        {
          "output_type": "stream",
          "name": "stderr",
          "text": [
            "ERROR:yfinance:\n",
            "1 Failed download:\n",
            "ERROR:yfinance:['BABA']: ValueError('day is out of range for month')\n"
          ]
        },
        {
          "output_type": "stream",
          "name": "stdout",
          "text": [
            "\n",
            "7 22\n",
            "[*********************100%***********************]  1 of 1 completed\n",
            "8 22\n",
            "[*********************100%***********************]  1 of 1 completed\n",
            "9 22\n",
            "[*********************100%***********************]  1 of 1 completed"
          ]
        },
        {
          "output_type": "stream",
          "name": "stderr",
          "text": [
            "ERROR:yfinance:\n",
            "1 Failed download:\n",
            "ERROR:yfinance:['BABA']: ValueError('day is out of range for month')\n"
          ]
        },
        {
          "output_type": "stream",
          "name": "stdout",
          "text": [
            "\n",
            "10 22\n",
            "[*********************100%***********************]  1 of 1 completed\n",
            "11 22\n",
            "[*********************100%***********************]  1 of 1 completed"
          ]
        },
        {
          "output_type": "stream",
          "name": "stderr",
          "text": [
            "ERROR:yfinance:\n",
            "1 Failed download:\n",
            "ERROR:yfinance:['BABA']: ValueError('day is out of range for month')\n"
          ]
        },
        {
          "output_type": "stream",
          "name": "stdout",
          "text": [
            "\n",
            "12 22\n",
            "[*********************100%***********************]  1 of 1 completed\n"
          ]
        }
      ],
      "source": [
        "ALPHAVANTAGE_API_KEY = '7aa99ffd0e1a4339b919861f2f63f641'\n",
        "\n",
        "# Replace 'YOUR_NEWS_API_KEY' with your actual News API key\n",
        "NEWS_API_KEY = '7aa99ffd0e1a4339b919861f2f63f641'\n",
        "\n",
        "import requests\n",
        "import pandas as pd\n",
        "\n",
        "\n",
        "NYT_API_KEY='qbNDwYiXxRbpo6c8HqgLBcBkYKSDCVvx'\n",
        "  # Replace this with your actual New York Times API key\n",
        "\n",
        "def scrape_nyt_news(keyword, from_date, to_date):\n",
        "    url = 'https://api.nytimes.com/svc/search/v2/articlesearch.json'\n",
        "    params = {\n",
        "        'q': keyword,\n",
        "        'begin_date': from_date,\n",
        "        'end_date': to_date,\n",
        "        'api-key': NYT_API_KEY\n",
        "    }\n",
        "\n",
        "    response = requests.get(url, params=params)\n",
        "    data = response.json()\n",
        "\n",
        "    news_data = []\n",
        "    if 'response' in data and 'docs' in data['response']:\n",
        "        for article in data['response']['docs']:\n",
        "            headline = article.get('headline', {}).get('main', '')\n",
        "            snippet = article.get('snippet', '')\n",
        "            published_at = article.get('pub_date', '')\n",
        "            news_data.append({\n",
        "                'headline': headline,\n",
        "                'snippet': snippet,\n",
        "                'publishedAt': published_at\n",
        "            })\n",
        "\n",
        "    return news_data\n",
        "\n",
        "\n",
        "\n",
        "def get_stock_news(symbol, from_date):\n",
        "    url = 'https://newsapi.org/v2/everything'\n",
        "    params = {\n",
        "        'q': symbol,\n",
        "        'from': from_date,\n",
        "        # 'to': to_date\n",
        "        'apiKey': NEWS_API_KEY\n",
        "    }\n",
        "\n",
        "    response = requests.get(url, params=params)\n",
        "    data = response.json()\n",
        "\n",
        "    if 'articles' in data:\n",
        "        stock_news_json = json.dumps(data['articles'])\n",
        "\n",
        "        # Save news articles to a file\n",
        "        with open(f'{symbol}_stock_news_{from_date}_.json', 'w') as f:\n",
        "            f.write(stock_news_json)\n",
        "        return stock_news_json\n",
        "    else:\n",
        "        return None\n",
        "\n",
        "\n",
        "\n",
        "import json\n",
        "from datetime import datetime\n",
        "\n",
        "# Keep only the required fields for each item in the data list\n",
        "\n",
        "#return formatted news\n",
        "\n",
        "def convert_date_format(iso_date):\n",
        "    date_obj = datetime.strptime(iso_date, \"%Y-%m-%dT%H:%M:%S%z\")\n",
        "    return date_obj.strftime(\"%Y-%m-%d\")\n",
        "\n",
        "def formatted_news(news_list):\n",
        "\n",
        "    filtered_data = []\n",
        "    for item in news_list:\n",
        "            item[\"publishedAt\"] = convert_date_format(item[\"publishedAt\"])\n",
        "\n",
        "    return news_list\n",
        "\n",
        "\n",
        "import yfinance as yf\n",
        "import json\n",
        "\n",
        "def get_stock_data(symbol, start_date, end_date):\n",
        "    stock_data = yf.download(symbol, start=start_date, end=end_date)\n",
        "    stock_data_list = stock_data.reset_index().to_dict(orient='records')\n",
        "\n",
        "    for item in stock_data_list:\n",
        "        item['Date'] = item['Date'].strftime('%Y-%m-%d')\n",
        "\n",
        "    return stock_data_list\n",
        "\n",
        "def calculate_percentage_change(prev_day, curr_day):\n",
        "    percentage_change = {}\n",
        "    for key in [\"Open\", \"Close\", \"High\"]:\n",
        "        prev_value = float(prev_day[key])\n",
        "        curr_value = float(curr_day[key])\n",
        "        change = curr_value - prev_value\n",
        "        percentage = (change / prev_value) * 100\n",
        "        percentage_change[key] = round(percentage, 2)\n",
        "    return percentage_change\n",
        "def format_stocks(data):\n",
        "    comparison_data = []\n",
        "    for i in range(1, len(data)):\n",
        "        prev_day = data[i - 1]\n",
        "        curr_day = data[i]\n",
        "        comparison_date = prev_day[\"Date\"]\n",
        "        percentage_change = calculate_percentage_change(prev_day, curr_day)\n",
        "        comparison_data.append({\"Date\": comparison_date, \"PercentageChange\": percentage_change})\n",
        "    return comparison_data\n",
        "def convert_to_two_digit(number):\n",
        "    if 0 <= number < 10:\n",
        "        return f\"0{number}\"\n",
        "    else:\n",
        "        return str(number)\n",
        "# Function to map stock data with publishedAt\n",
        "def map_stock_to_data(stock_list, data_list):\n",
        "    mapped_data = []\n",
        "    for stock_item in stock_list:\n",
        "        for data_item in data_list:\n",
        "            if stock_item[\"Date\"] == data_item[\"publishedAt\"]:\n",
        "                mapped_item = {\n",
        "                    \"Date\": stock_item[\"Date\"],\n",
        "                    \"PercentageChange\": stock_item[\"PercentageChange\"],\n",
        "                    \"snippet\": data_item[\"snippet\"],\n",
        "                    \"publishedAt\": data_item[\"publishedAt\"],\n",
        "                    \"headline\": data_item[\"headline\"]\n",
        "                }\n",
        "                mapped_data.append(mapped_item)\n",
        "                break\n",
        "    return mapped_data\n",
        "\n",
        "\n",
        "\n",
        "def finalize_data(symbol,iter,year_last):\n",
        "    stock=get_stock_data(symbol,'20'+convert_to_two_digit(year_last)+'-'+convert_to_two_digit(iter)+'-01',end_date='20'+convert_to_two_digit(year_last)+'-'+convert_to_two_digit(iter)+'-31')\n",
        "    with open('stocks'+str(iter)+'.json', \"w\") as f:\n",
        "            json.dump(stock, f, indent=2)\n",
        "\n",
        "    stock=json.load(open('stocks'+str(iter)+'.json',encoding='utf-8'))\n",
        "\n",
        "    stock=format_stocks(stock)\n",
        "    news_list=scrape_nyt_news(keyword='Alibaba Group Holding Limited',from_date='20'+convert_to_two_digit(year_last)+'-'+convert_to_two_digit(iter)+'-01',to_date='20'+convert_to_two_digit(year_last)+'-'+convert_to_two_digit(iter)+'-31')\n",
        "    with open('news'+str(iter)+'.json', \"w\") as f:\n",
        "            json.dump(news_list, f, indent=2)\n",
        "\n",
        "    news_list=json.load(open('news'+str(iter)+'.json',encoding='utf-8'))\n",
        "    data=formatted_news(news_list)\n",
        "\n",
        "\n",
        "\n",
        "\n",
        "    return map_stock_to_data(stock,data)\n",
        "\n",
        "for j in range(10,23):\n",
        "    for i in range(1,13):\n",
        "        print(\"\"+str(i)+\" \"+str(j)+\"\")\n",
        "        mapped=finalize_data('BABA',i,j)\n",
        "        output='mapped_'+convert_to_two_digit(j)+convert_to_two_digit(i)+''\n",
        "        with open(output, \"w\") as f:\n",
        "            json.dump(mapped, f, indent=2)\n",
        "\n"
      ]
    },
    {
      "cell_type": "code",
      "source": [],
      "metadata": {
        "id": "mSPrvSR9U7E-"
      },
      "execution_count": null,
      "outputs": []
    }
  ]
}